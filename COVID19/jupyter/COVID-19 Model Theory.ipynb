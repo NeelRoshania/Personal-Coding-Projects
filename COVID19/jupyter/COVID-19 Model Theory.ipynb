{
 "cells": [
  {
   "cell_type": "code",
   "execution_count": 1,
   "metadata": {},
   "outputs": [],
   "source": [
    "import numpy as np\n",
    "import pandas as pd\n",
    "import matplotlib.pyplot as plt"
   ]
  },
  {
   "cell_type": "markdown",
   "metadata": {},
   "source": [
    "# Model Setup"
   ]
  },
  {
   "cell_type": "code",
   "execution_count": 2,
   "metadata": {},
   "outputs": [],
   "source": [
    "def delta_cases_per_day(E, pn, nd):\n",
    "    \n",
    "    # change in cases per day, d_nd+1 = E * P(n) * nd\n",
    "    #     - E: current population of infected\n",
    "    #     - P(n): probability of infected\n",
    "    #     - nd: number of cases that day\n",
    "\n",
    "    return E*pn*nd\n",
    "\n",
    "def new_cases_next_day(d_nd, nd):\n",
    "    return d_nd + nd\n",
    "\n",
    "\n",
    "def cases_for_any_day(n0, E, pn, d):\n",
    "    \n",
    "    # Total number of cases for the current day d is;\n",
    "\n",
    "    # - nd = n0*k^d\n",
    "    # - Where n0 is the start of the outbreak and d is the number of days since outbreak\n",
    "    \n",
    "    # - Standard form: y = ab^x\n",
    "    #    - Where x is the number of days since infection\n",
    "    \n",
    "    return n0*np.power((1 + E*pn), d)\n"
   ]
  },
  {
   "cell_type": "markdown",
   "metadata": {},
   "source": [
    "# One day simulation"
   ]
  },
  {
   "cell_type": "code",
   "execution_count": 3,
   "metadata": {},
   "outputs": [
    {
     "name": "stdout",
     "output_type": "stream",
     "text": [
      "\n",
      "    \n",
      "    Assumptions:\n",
      "    People exposed by the virus      : 111\n",
      "    Probability of virus infection   : 0.002\n",
      "    Number of reported infections    : 100\n",
      "    \n",
      "    Model output:\n",
      "    New infections today             : 200.0\n",
      "    New cases the tommorow           : 1200.0\n",
      "    Growth Factor (E*pn)             : 12.0\n",
      "    \n",
      "    4 month projection Projection    : 6861333540.39\n",
      "    \n",
      "\n"
     ]
    }
   ],
   "source": [
    "# simulate exponential growth for one day\n",
    "\n",
    "# one day\n",
    "E = 100\n",
    "pn = 0.002\n",
    "n0 = 1000\n",
    "\n",
    "new_cases_pd = delta_cases_per_day(E, pn, n0)\n",
    "new_cases_tommorow = new_cases_next_day(new_cases_pd, n0)\n",
    "new_cases_any_day = cases_for_any_day(n0, E, pn, 1)\n",
    "\n",
    "# projection to total population\n",
    "E = 111\n",
    "pn = 0.002\n",
    "n0 = 100\n",
    "\n",
    "total_population = cases_for_any_day(n0, E, pn, 90)\n",
    "\n",
    "print(f\"\"\"\n",
    "    \n",
    "    Assumptions:\n",
    "    People exposed by the virus      : {E}\n",
    "    Probability of virus infection   : {pn}\n",
    "    Number of reported infections    : {n0}\n",
    "    \n",
    "    Model output:\n",
    "    New infections today             : {new_cases_pd}\n",
    "    New cases the tommorow           : {new_cases_tommorow}\n",
    "    Growth Factor (E*pn)             : {new_cases_tommorow/n0}\n",
    "    \n",
    "    4 month projection Projection    : {round(total_population, 2)}\n",
    "    \n",
    "\"\"\")"
   ]
  },
  {
   "cell_type": "code",
   "execution_count": 4,
   "metadata": {},
   "outputs": [],
   "source": [
    "# simulating 130 days\n",
    "E = 111\n",
    "pn = 0.002\n",
    "n0 = 100\n",
    "\n",
    "day_since_outbreak = []\n",
    "total_cases = []\n",
    "pr_infection = []\n",
    "npop = 7775337441 # from projected global populatio estimate\n",
    "\n",
    "for i in range(1, 91, 1):\n",
    "    day_since_outbreak.append(i)\n",
    "    total_cases.append(cases_for_any_day(n0, E, pn, i))\n",
    "    pr_infection.append(cases_for_any_day(n0, E, pn, i)/npop)\n",
    "    \n",
    "df_exponential = pd.DataFrame({\n",
    "    \"days_since_outbreak\": day_since_outbreak,\n",
    "    \"total_cases\": total_cases\n",
    "})\n",
    "\n",
    "df_log = pd.DataFrame({\n",
    "    \"days_since_outbreak\": day_since_outbreak,\n",
    "    \"total_cases\": np.log(total_cases)\n",
    "})"
   ]
  },
  {
   "cell_type": "code",
   "execution_count": 5,
   "metadata": {},
   "outputs": [
    {
     "data": {
      "image/png": "[encoded data removed]",
      "text/plain": [
       "<Figure size 720x360 with 2 Axes>"
      ]
     },
     "metadata": {
      "needs_background": "light"
     },
     "output_type": "display_data"
    }
   ],
   "source": [
    "# Plot exponential\n",
    "fig = plt.figure(figsize=(10, 5))\n",
    "ax_1 = plt.subplot(1, 2, 1)\n",
    "ax_1.scatter(x=df_exponential[\"days_since_outbreak\"], y=df_exponential[\"total_cases\"])\n",
    "\n",
    "ax_2 = plt.subplot(1, 2, 2)\n",
    "ax_2.scatter(x=df_log[\"days_since_outbreak\"], y=df_log[\"total_cases\"])\n",
    "\n",
    "# Decorative properties\n",
    "ax_1.spines['right'].set_visible(False)\n",
    "ax_1.spines['top'].set_visible(False)\n",
    "\n",
    "ax_2.spines['right'].set_visible(False)\n",
    "ax_2.spines['top'].set_visible(False)\n"
   ]
  },
  {
   "cell_type": "markdown",
   "metadata": {},
   "source": [
    "The only way this goes down is if the following are reduced,\n",
    "1. The number of people exposed\n",
    "2. The probability of virus infection from one person to another\n",
    "\n",
    "Given a constant growth factor, the entire worlds population would be infected in 130 days.\n",
    "\n",
    "In this scenario, the probability of a person becoming infected depends on whether they are exposed or not. As more people become infected, the likelihood for any individual becoming infected decreases. Because they become infected.\n",
    "\n",
    "Therefore, the adjusted probability of exposure is;\n",
    "\n",
    "    p = (1 - nd/pop)\n",
    "\n",
    "    Where,\n",
    "    \n",
    "    nd - current number of cases\n",
    "    pop - The total population"
   ]
  },
  {
   "cell_type": "markdown",
   "metadata": {},
   "source": [
    "## Simulating a theoretical 90 day cycle"
   ]
  },
  {
   "cell_type": "code",
   "execution_count": 6,
   "metadata": {},
   "outputs": [],
   "source": [
    "logit = lambda L, k, x, x0: L/np.sum([1, np.exp(-k*(x-x0))])\n",
    "\n",
    "# L: Curve's maximum value\n",
    "# k: logistic growth rate\n",
    "# x: current day\n",
    "# x0: midpoint of growth characteristics"
   ]
  },
  {
   "cell_type": "code",
   "execution_count": 7,
   "metadata": {},
   "outputs": [],
   "source": [
    "import ipywidgets as widgets\n",
    "from ipywidgets import AppLayout, HTML, Layout\n",
    "\n",
    "global country_val\n",
    "\n",
    "def f(country):\n",
    "\n",
    "    country_val = country\n",
    "    \n",
    "    fig = plt.figure(figsize=(10, 5))\n",
    "    ax_1 = plt.subplot(1, 2, 1)\n",
    "    ax_1.scatter(x=df_exponential[\"days_since_outbreak\"], y=df_exponential[\"total_cases\"])\n",
    "    ax_1.set_title(country)\n",
    "    \n",
    "def g(country):\n",
    "    fig = plt.figure(figsize=(10, 5))\n",
    "    ax_1 = plt.subplot(1, 2, 1)\n",
    "    ax_1.scatter(x=df_exponential[\"days_since_outbreak\"], y=df_exponential[\"total_cases\"])\n",
    "    ax_1.set_title(country)\n",
    "    \n",
    "# Provide feature selection drop down\n",
    "i = widgets.interactive(\n",
    "    f, \n",
    "    country=[1, 2, 3]\n",
    ")\n",
    "\n",
    "j = widgets.interactive(\n",
    "    g, \n",
    "    country=[1, 2, 3]\n",
    ")"
   ]
  },
  {
   "cell_type": "code",
   "execution_count": 8,
   "metadata": {
    "scrolled": false
   },
   "outputs": [
    {
     "data": {
      "application/vnd.jupyter.widget-view+json": {
       "model_id": "e80d8efcc50c47b2ad2e56185e32de52",
       "version_major": 2,
       "version_minor": 0
      },
      "text/plain": [
       "AppLayout(children=(HTML(value='<h3>Growth Factor of 1</h3>', layout=Layout(grid_area='header', height='auto')…"
      ]
     },
     "metadata": {},
     "output_type": "display_data"
    }
   ],
   "source": [
    "header = HTML(\"<h3>Growth Factor of {}</h3>\".format(i.children[0].value), layout=Layout(height='auto'))\n",
    "header.style.text_align='center'\n",
    "\n",
    "app = AppLayout(\n",
    "    header = header,\n",
    "    left_sidebar = i,\n",
    "    right_sidebar = j,\n",
    "#     height='600px',\n",
    "#     width = \"70%\",\n",
    ")\n",
    "\n",
    "# display(header)\n",
    "display(app)"
   ]
  },
  {
   "cell_type": "code",
   "execution_count": 9,
   "metadata": {
    "scrolled": true
   },
   "outputs": [],
   "source": [
    "# simulating 90 days\n",
    "\n",
    "cases_today = []\n",
    "npop = 7775337441 # from projected estimate\n",
    "days = np.arange(1, 91, 1)\n",
    "\n",
    "for day in days:\n",
    "    logit_today = logit(1, 1.2, day, 45)\n",
    "    cases_today.append(logit_today*npop)\n",
    "    \n",
    "#     print(n)\n",
    "df = pd.DataFrame({\n",
    "    \"days_since_outbreak\": days,\n",
    "    \"total_cases\": cases_today\n",
    "})\n",
    "\n",
    "# # Plot exponential\n",
    "# fig = plt.figure(figsize=(10, 5))\n",
    "# ax_1 = plt.subplot(1, 2, 1)\n",
    "# ax_1.scatter(x=df[\"days_since_outbreak\"], y=df[\"total_cases\"])\n",
    "# # ax_1.plot(df[\"days_since_outbreak\"], df[\"total_cases\"])\n",
    "\n",
    "\n",
    "# ax_2 = plt.subplot(1, 2, 2)\n",
    "# ax_2.scatter(x=df[\"days_since_outbreak\"], y=np.log10(df[\"total_cases\"]))\n",
    "# # ax_2.plot(df[\"days_since_outbreak\"], np.log(df[\"total_cases\"]))\n",
    "\n",
    "# # Decorative properties\n",
    "# ax_1.spines['right'].set_visible(False)\n",
    "# ax_1.spines['top'].set_visible(False)\n",
    "\n",
    "# ax_2.spines['right'].set_visible(False)\n",
    "# ax_2.spines['top'].set_visible(False)\n"
   ]
  },
  {
   "cell_type": "markdown",
   "metadata": {},
   "source": [
    "## Simulating different growth scenarios"
   ]
  },
  {
   "cell_type": "code",
   "execution_count": 10,
   "metadata": {},
   "outputs": [
    {
     "data": {
      "image/png": "[encoded data removed]",
      "text/plain": [
       "<Figure size 432x288 with 7 Axes>"
      ]
     },
     "metadata": {
      "needs_background": "light"
     },
     "output_type": "display_data"
    }
   ],
   "source": [
    "# simulating 90 days\n",
    "\n",
    "cases_today = []\n",
    "npop = 7775337441 # from projected estimate\n",
    "plot_c = 1\n",
    "\n",
    "for scaled_range in range(6, 20, 2):\n",
    "\n",
    "    scaled_days = np.arange(1, scaled_range, 1)\n",
    "    \n",
    "    for day in scaled_days:\n",
    "        logit_today = logit(1, 1.2, day, 12)\n",
    "        cases_today.append(logit_today*npop)\n",
    "\n",
    "    #     print(n)\n",
    "    df = pd.DataFrame({\n",
    "        \"days_since_outbreak\": scaled_days,\n",
    "        \"total_cases\": cases_today\n",
    "    })\n",
    "\n",
    "    # Plot exponential\n",
    "#     fig = plt.figure(figsize=(10, 2))\n",
    "    ax_1 = plt.subplot(4, 2, plot_c)\n",
    "    ax_1.plot(df[\"days_since_outbreak\"], df[\"total_cases\"])\n",
    "\n",
    "\n",
    "    # Decorative properties\n",
    "    ax_1.spines['right'].set_visible(False)\n",
    "    ax_1.spines['top'].set_visible(False)\n",
    "    plt.tight_layout()\n",
    "    \n",
    "    \n",
    "    plot_c += 1\n",
    "    cases_today = []"
   ]
  },
  {
   "cell_type": "markdown",
   "metadata": {},
   "source": [
    "# Summary\n",
    "1. The mid point can be controlled by x0\n",
    "    - How many days after the start of the outbreak is addressed with a lockdown\n",
    "2. The spread can be controlled by the number of scaled days\n",
    "    - How long is the pandemic likely to spread"
   ]
  },
  {
   "cell_type": "code",
   "execution_count": 11,
   "metadata": {},
   "outputs": [
    {
     "name": "stdout",
     "output_type": "stream",
     "text": [
      " Volume in drive C is Windows\n",
      " Volume Serial Number is 1CC9-289F\n",
      "\n",
      " Directory of C:\\Users\\nrosh\\Desktop\\Coding Projects\\COVID19\n",
      "\n",
      "2020/03/21  22:34    <DIR>          .\n",
      "2020/03/21  22:34    <DIR>          ..\n",
      "2020/03/18  22:40    <DIR>          .ipynb_checkpoints\n",
      "2020/03/21  22:34            29ÿ798 COVID-19 Exploratory Analysis.ipynb\n",
      "2020/03/21  00:52            54ÿ134 COVID-19 Model Theory.ipynb\n",
      "2020/03/18  21:03    <DIR>          data\n",
      "2020/03/21  22:21               466 introduction.html\n",
      "2020/03/21  21:35               988 load_jhp_data.py\n",
      "2020/03/21  21:33                15 test_jupyter.py\n",
      "               5 File(s)         85ÿ401 bytes\n",
      "               4 Dir(s)  315ÿ976ÿ257ÿ536 bytes free\n"
     ]
    }
   ],
   "source": [
    "!dir"
   ]
  },
  {
   "cell_type": "code",
   "execution_count": 140,
   "metadata": {},
   "outputs": [],
   "source": [
    "geographical_cat_features = [\"Country/Region\", \"Province/State\"]\n",
    "geographical_float_features = [\"Lat\", \"Long\"]\n",
    "src_df_confirmed = \"data/df_confirmed.csv\"\n",
    "df_confirmed = pd.read_csv(src_df_confirmed)\n",
    "df = df_confirmed.head()\n",
    "df = df.drop([\"Unnamed: 0\"], axis=1)"
   ]
  },
  {
   "cell_type": "code",
   "execution_count": 22,
   "metadata": {},
   "outputs": [],
   "source": [
    "# get dates only\n",
    "dates_df = df.drop(geographical_float_features+geographical_cat_features, axis=1)\n",
    "growth_factor_df = dates_df.copy()"
   ]
  },
  {
   "cell_type": "code",
   "execution_count": 116,
   "metadata": {},
   "outputs": [],
   "source": [
    "def get_growth_factor(df):\n",
    "    growth_factor = {}\n",
    "\n",
    "    # initialize growth factor\n",
    "    for i in df.index.to_list():\n",
    "        growth_factor[i] = None\n",
    "\n",
    "    for index, val in df.iterrows():\n",
    "        # get growth_factor for each row\n",
    "        growth_factor[index] = np.array(df.iloc[index, 1:])/np.array(df.iloc[index, 0:-1])\n",
    "    \n",
    "    return pd.DataFrame(growth_factor).replace({float('inf'): None, np.nan: None})\n"
   ]
  },
  {
   "cell_type": "code",
   "execution_count": 129,
   "metadata": {},
   "outputs": [],
   "source": [
    "%%capture\n",
    "g_factors = get_growth_factor(dates_df).T"
   ]
  },
  {
   "cell_type": "code",
   "execution_count": 130,
   "metadata": {},
   "outputs": [],
   "source": [
    "g_factors.columns = dates_df.columns[1:]\n",
    "df_growth_factors = pd.concat(\n",
    "    [df.loc[:, geographical_cat_features+geographical_float_features],\n",
    "    g_factors],\n",
    "    axis=1\n",
    "    )\n",
    "# for column in geographical_cat_features+geographical_float_features:\n",
    "#     df_gfactor[column] = df[column]"
   ]
  },
  {
   "cell_type": "code",
   "execution_count": 3,
   "metadata": {},
   "outputs": [
    {
     "name": "stdout",
     "output_type": "stream",
     "text": [
      "<class 'pandas.core.frame.DataFrame'>\n",
      "RangeIndex: 89121 entries, 0 to 89120\n",
      "Data columns (total 7 columns):\n",
      " #   Column          Non-Null Count  Dtype  \n",
      "---  ------          --------------  -----  \n",
      " 0   country_region  89121 non-null  object \n",
      " 1   province_state  59475 non-null  object \n",
      " 2   lat             89121 non-null  float64\n",
      " 3   long            89121 non-null  float64\n",
      " 4   case_type       89121 non-null  object \n",
      " 5   date            89121 non-null  object \n",
      " 6   cases           89121 non-null  int64  \n",
      "dtypes: float64(2), int64(1), object(4)\n",
      "memory usage: 4.8+ MB\n"
     ]
    }
   ],
   "source": [
    "import pandas as pd\n",
    "df = pd.read_csv(\"df_all.csv\")\n",
    "df.info()"
   ]
  },
  {
   "cell_type": "code",
   "execution_count": 14,
   "metadata": {},
   "outputs": [
    {
     "data": {
      "text/plain": [
       "<class 'str'>    89121\n",
       "Name: 0, dtype: int64"
      ]
     },
     "execution_count": 14,
     "metadata": {},
     "output_type": "execute_result"
    }
   ],
   "source": [
    "type_val = []\n",
    "\n",
    "for index in df.country_region.index:\n",
    "    type_val.append(type(df.country_region.iloc[index]))\n",
    "    \n",
    "pd.DataFrame(type_val).loc[:, 0].value_counts()"
   ]
  },
  {
   "cell_type": "code",
   "execution_count": 25,
   "metadata": {},
   "outputs": [
    {
     "name": "stdout",
     "output_type": "stream",
     "text": [
      "<class 'pandas.core.frame.DataFrame'>\n",
      "RangeIndex: 89121 entries, 0 to 89120\n",
      "Data columns (total 7 columns):\n",
      " #   Column          Non-Null Count  Dtype         \n",
      "---  ------          --------------  -----         \n",
      " 0   country_region  89121 non-null  string        \n",
      " 1   province_state  59475 non-null  string        \n",
      " 2   lat             89121 non-null  float64       \n",
      " 3   long            89121 non-null  float64       \n",
      " 4   case_type       89121 non-null  string        \n",
      " 5   date            89121 non-null  datetime64[ns]\n",
      " 6   cases           89121 non-null  int64         \n",
      "dtypes: datetime64[ns](1), float64(2), int64(1), string(3)\n",
      "memory usage: 4.8 MB\n"
     ]
    }
   ],
   "source": [
    "df.country_region = df.country_region.astype('string')\n",
    "df.province_state = df.province_state.astype('string')\n",
    "df.case_type = df.case_type.astype('string')\n",
    "df.date = pd.to_datetime(df.date)\n",
    "\n",
    "df.info()"
   ]
  },
  {
   "cell_type": "code",
   "execution_count": 30,
   "metadata": {},
   "outputs": [
    {
     "name": "stdout",
     "output_type": "stream",
     "text": [
      "{'bath_rows_before': 0}\n"
     ]
    }
   ],
   "source": [
    "import json\n",
    "\n",
    "with open('meta/previous_batch_meta.json') as f:\n",
    "    data = json.load(f)\n",
    "    \n",
    "print(data)"
   ]
  },
  {
   "cell_type": "code",
   "execution_count": 29,
   "metadata": {},
   "outputs": [
    {
     "data": {
      "text/plain": [
       "0"
      ]
     },
     "execution_count": 29,
     "metadata": {},
     "output_type": "execute_result"
    }
   ],
   "source": [
    "data[\"bath_rows_before\"]"
   ]
  },
  {
   "cell_type": "code",
   "execution_count": 33,
   "metadata": {},
   "outputs": [
    {
     "data": {
      "text/plain": [
       "89121"
      ]
     },
     "execution_count": 33,
     "metadata": {},
     "output_type": "execute_result"
    }
   ],
   "source": [
    "len(df.index)"
   ]
  },
  {
   "cell_type": "code",
   "execution_count": null,
   "metadata": {},
   "outputs": [],
   "source": []
  }
 ],
 "metadata": {
  "kernelspec": {
   "display_name": "Python 3",
   "language": "python",
   "name": "python3"
  },
  "language_info": {
   "codemirror_mode": {
    "name": "ipython",
    "version": 3
   },
   "file_extension": ".py",
   "mimetype": "text/x-python",
   "name": "python",
   "nbconvert_exporter": "python",
   "pygments_lexer": "ipython3",
   "version": "3.7.3"
  },
  "toc": {
   "base_numbering": 1,
   "nav_menu": {},
   "number_sections": true,
   "sideBar": true,
   "skip_h1_title": false,
   "title_cell": "Table of Contents",
   "title_sidebar": "Contents",
   "toc_cell": false,
   "toc_position": {},
   "toc_section_display": true,
   "toc_window_display": false
  },
  "varInspector": {
   "cols": {
    "lenName": 16,
    "lenType": 16,
    "lenVar": 40
   },
   "kernels_config": {
    "python": {
     "delete_cmd_postfix": "",
     "delete_cmd_prefix": "del ",
     "library": "var_list.py",
     "varRefreshCmd": "print(var_dic_list())"
    },
    "r": {
     "delete_cmd_postfix": ") ",
     "delete_cmd_prefix": "rm(",
     "library": "var_list.r",
     "varRefreshCmd": "cat(var_dic_list()) "
    }
   },
   "types_to_exclude": [
    "module",
    "function",
    "builtin_function_or_method",
    "instance",
    "_Feature"
   ],
   "window_display": false
  }
 },
 "nbformat": 4,
 "nbformat_minor": 4
}
