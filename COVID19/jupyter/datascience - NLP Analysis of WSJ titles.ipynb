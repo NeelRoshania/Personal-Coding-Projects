{
 "cells": [
  {
   "cell_type": "markdown",
   "metadata": {},
   "source": [
    "# NLP Analysis of WSJ titles\n",
    "\n",
    "## Key objective\n",
    "    - Export data from these findings for visualization on DataStudio\n",
    "\n",
    "## Key questions\n",
    "1. Which topics became more or less important over the period of the pandemic according the US?\n",
    "    - When did they start reporting about vaccines? Or the pandemic?\n",
    "    - How has that changed?\n",
    "    \n",
    "- Monthly review\n",
    "    - Key topics ranked against each other\n",
    "    - Distributions of topics when selected \n",
    "    \n",
    "- Push analysis to BigQuery\n"
   ]
  },
  {
   "cell_type": "code",
   "execution_count": 1,
   "metadata": {},
   "outputs": [
    {
     "name": "stdout",
     "output_type": "stream",
     "text": [
      "Autosaving every 60 seconds\n"
     ]
    }
   ],
   "source": [
    "# data science essentials\n",
    "\n",
    "%autosave 60\n",
    "\n",
    "import pandas as pd\n",
    "import os"
   ]
  },
  {
   "cell_type": "markdown",
   "metadata": {},
   "source": [
    "## Big Query Authentication and Ingestion"
   ]
  },
  {
   "cell_type": "code",
   "execution_count": 2,
   "metadata": {},
   "outputs": [],
   "source": [
    "# source: https://cloud.google.com/bigquery/docs/visualize-jupyter\n",
    "\n",
    "# set global environment for authentication\n",
    "credential_path = \"C:\\\\Users\\\\nrosh\\\\Desktop\\\\Personal Coding Projects\\\\COVID19\\\\private\\\\covid19-2020-0fb8513fcbd8.json\"\n",
    "os.environ['GOOGLE_APPLICATION_CREDENTIALS'] = credential_path\n",
    "\n",
    "%load_ext google.cloud.bigquery"
   ]
  },
  {
   "cell_type": "code",
   "execution_count": 3,
   "metadata": {},
   "outputs": [],
   "source": [
    "%%bigquery df_bq\n",
    "SELECT\n",
    "  *\n",
    "FROM\n",
    "  `covid19-2020-272000.covid19.sentiments_magnitudes`"
   ]
  },
  {
   "cell_type": "code",
   "execution_count": 4,
   "metadata": {},
   "outputs": [
    {
     "data": {
      "text/html": [
       "<div>\n",
       "<style scoped>\n",
       "    .dataframe tbody tr th:only-of-type {\n",
       "        vertical-align: middle;\n",
       "    }\n",
       "\n",
       "    .dataframe tbody tr th {\n",
       "        vertical-align: top;\n",
       "    }\n",
       "\n",
       "    .dataframe thead th {\n",
       "        text-align: right;\n",
       "    }\n",
       "</style>\n",
       "<table border=\"1\" class=\"dataframe\">\n",
       "  <thead>\n",
       "    <tr style=\"text-align: right;\">\n",
       "      <th></th>\n",
       "      <th>date</th>\n",
       "      <th>headline</th>\n",
       "      <th>link</th>\n",
       "      <th>magnitude</th>\n",
       "      <th>score</th>\n",
       "      <th>source</th>\n",
       "    </tr>\n",
       "  </thead>\n",
       "  <tbody>\n",
       "    <tr>\n",
       "      <th>0</th>\n",
       "      <td>2020-04-19</td>\n",
       "      <td>Make Sure to Include Digital Assets in Your Es...</td>\n",
       "      <td>https://www.wsj.com/articles/make-sure-to-incl...</td>\n",
       "      <td>0.0</td>\n",
       "      <td>0.0</td>\n",
       "      <td>wsj</td>\n",
       "    </tr>\n",
       "    <tr>\n",
       "      <th>1</th>\n",
       "      <td>2020-04-19</td>\n",
       "      <td>YouTube Spars With Auditor Over Transparency o...</td>\n",
       "      <td>https://www.wsj.com/articles/youtube-spars-wit...</td>\n",
       "      <td>0.0</td>\n",
       "      <td>0.0</td>\n",
       "      <td>wsj</td>\n",
       "    </tr>\n",
       "    <tr>\n",
       "      <th>2</th>\n",
       "      <td>2020-04-19</td>\n",
       "      <td>Remembering Richard Brodsky, a Legislative Cha...</td>\n",
       "      <td>https://www.wsj.com/articles/remembering-richa...</td>\n",
       "      <td>0.0</td>\n",
       "      <td>0.0</td>\n",
       "      <td>wsj</td>\n",
       "    </tr>\n",
       "    <tr>\n",
       "      <th>3</th>\n",
       "      <td>2020-04-19</td>\n",
       "      <td>Sending Hospitals Into Bankruptcy</td>\n",
       "      <td>https://www.wsj.com/articles/sending-hospitals...</td>\n",
       "      <td>0.0</td>\n",
       "      <td>0.0</td>\n",
       "      <td>wsj</td>\n",
       "    </tr>\n",
       "    <tr>\n",
       "      <th>4</th>\n",
       "      <td>2020-04-19</td>\n",
       "      <td>China’s Hong Kong Roundup</td>\n",
       "      <td>https://www.wsj.com/articles/chinas-hong-kong-...</td>\n",
       "      <td>0.0</td>\n",
       "      <td>0.0</td>\n",
       "      <td>wsj</td>\n",
       "    </tr>\n",
       "  </tbody>\n",
       "</table>\n",
       "</div>"
      ],
      "text/plain": [
       "         date                                           headline  \\\n",
       "0  2020-04-19  Make Sure to Include Digital Assets in Your Es...   \n",
       "1  2020-04-19  YouTube Spars With Auditor Over Transparency o...   \n",
       "2  2020-04-19  Remembering Richard Brodsky, a Legislative Cha...   \n",
       "3  2020-04-19                  Sending Hospitals Into Bankruptcy   \n",
       "4  2020-04-19                          China’s Hong Kong Roundup   \n",
       "\n",
       "                                                link  magnitude  score source  \n",
       "0  https://www.wsj.com/articles/make-sure-to-incl...        0.0    0.0    wsj  \n",
       "1  https://www.wsj.com/articles/youtube-spars-wit...        0.0    0.0    wsj  \n",
       "2  https://www.wsj.com/articles/remembering-richa...        0.0    0.0    wsj  \n",
       "3  https://www.wsj.com/articles/sending-hospitals...        0.0    0.0    wsj  \n",
       "4  https://www.wsj.com/articles/chinas-hong-kong-...        0.0    0.0    wsj  "
      ]
     },
     "execution_count": 4,
     "metadata": {},
     "output_type": "execute_result"
    }
   ],
   "source": [
    "df = df_bq.copy()\n",
    "df.head(5)"
   ]
  },
  {
   "cell_type": "markdown",
   "metadata": {},
   "source": [
    "## Objectives\n",
    "1. To determine key trends over the period of November 2019 to present\n",
    "2. To predict which trends may rise when the pandemic ends"
   ]
  },
  {
   "cell_type": "markdown",
   "metadata": {},
   "source": [
    "## Analytical procedure/methodology\n",
    "1. Clean data -> produce unique headlines\n",
    "    - Reorder by date\n",
    "    - Understand overview\n",
    "    - Remove duplicates produced by ETL configuration\n",
    "    - Lower case headlines\n",
    "2. Feature Engineering\n",
    "    - Above average sentiment and emotional magnitude\n",
    "    - Classification labels to differentiate periods of time by categories\n",
    "3. Let's just, not go there right now..."
   ]
  },
  {
   "cell_type": "markdown",
   "metadata": {},
   "source": [
    "## Data Cleansing\n",
    "- Reorder by date\n",
    "- Understand overview\n",
    "- Remove duplicates produced by ETL configuration\n",
    "- Lower case headlines"
   ]
  },
  {
   "cell_type": "code",
   "execution_count": 5,
   "metadata": {},
   "outputs": [
    {
     "data": {
      "text/html": [
       "<div>\n",
       "<style scoped>\n",
       "    .dataframe tbody tr th:only-of-type {\n",
       "        vertical-align: middle;\n",
       "    }\n",
       "\n",
       "    .dataframe tbody tr th {\n",
       "        vertical-align: top;\n",
       "    }\n",
       "\n",
       "    .dataframe thead th {\n",
       "        text-align: right;\n",
       "    }\n",
       "</style>\n",
       "<table border=\"1\" class=\"dataframe\">\n",
       "  <thead>\n",
       "    <tr style=\"text-align: right;\">\n",
       "      <th></th>\n",
       "      <th>date</th>\n",
       "      <th>headline</th>\n",
       "      <th>link</th>\n",
       "      <th>magnitude</th>\n",
       "      <th>score</th>\n",
       "      <th>source</th>\n",
       "    </tr>\n",
       "  </thead>\n",
       "  <tbody>\n",
       "    <tr>\n",
       "      <th>14273</th>\n",
       "      <td>2019-11-08</td>\n",
       "      <td>JPMorgan Deal Shows Possible Path to Smaller F...</td>\n",
       "      <td>https://www.wsj.com/articles/jpmorgan-deal-sho...</td>\n",
       "      <td>0.4</td>\n",
       "      <td>0.4</td>\n",
       "      <td>wsj</td>\n",
       "    </tr>\n",
       "    <tr>\n",
       "      <th>4358</th>\n",
       "      <td>2019-11-08</td>\n",
       "      <td>Former Brazilian President ‘Lula’ da Silva Rel...</td>\n",
       "      <td>https://www.wsj.com/articles/brazilian-judge-o...</td>\n",
       "      <td>0.0</td>\n",
       "      <td>0.0</td>\n",
       "      <td>wsj</td>\n",
       "    </tr>\n",
       "    <tr>\n",
       "      <th>4359</th>\n",
       "      <td>2019-11-08</td>\n",
       "      <td>House Freedom Caucus Emerges as Trump’s Main D...</td>\n",
       "      <td>https://www.wsj.com/articles/house-freedom-cau...</td>\n",
       "      <td>0.0</td>\n",
       "      <td>0.0</td>\n",
       "      <td>wsj</td>\n",
       "    </tr>\n",
       "    <tr>\n",
       "      <th>4360</th>\n",
       "      <td>2019-11-08</td>\n",
       "      <td>College Football’s Powers: Ohio State, Alabama...</td>\n",
       "      <td>https://www.wsj.com/articles/its-november-and-...</td>\n",
       "      <td>0.0</td>\n",
       "      <td>0.0</td>\n",
       "      <td>wsj</td>\n",
       "    </tr>\n",
       "    <tr>\n",
       "      <th>4361</th>\n",
       "      <td>2019-11-08</td>\n",
       "      <td>What’s News: World-Wide</td>\n",
       "      <td>https://www.wsj.com/articles/whats-news-world-...</td>\n",
       "      <td>0.0</td>\n",
       "      <td>0.0</td>\n",
       "      <td>wsj</td>\n",
       "    </tr>\n",
       "    <tr>\n",
       "      <th>...</th>\n",
       "      <td>...</td>\n",
       "      <td>...</td>\n",
       "      <td>...</td>\n",
       "      <td>...</td>\n",
       "      <td>...</td>\n",
       "      <td>...</td>\n",
       "    </tr>\n",
       "    <tr>\n",
       "      <th>146</th>\n",
       "      <td>2020-04-20</td>\n",
       "      <td>China Rolls Out Pilot Test of Digital Currency</td>\n",
       "      <td>https://www.wsj.com/articles/china-rolls-out-p...</td>\n",
       "      <td>0.3</td>\n",
       "      <td>0.3</td>\n",
       "      <td>wsj</td>\n",
       "    </tr>\n",
       "    <tr>\n",
       "      <th>145</th>\n",
       "      <td>2020-04-20</td>\n",
       "      <td>Cloud Companies Won’t Float Above Pandemic</td>\n",
       "      <td>https://www.wsj.com/articles/cloud-companies-w...</td>\n",
       "      <td>0.3</td>\n",
       "      <td>0.3</td>\n",
       "      <td>wsj</td>\n",
       "    </tr>\n",
       "    <tr>\n",
       "      <th>144</th>\n",
       "      <td>2020-04-20</td>\n",
       "      <td>Cloud Companies Won’t Float Above Pandemic</td>\n",
       "      <td>https://www.wsj.com/articles/cloud-companies-w...</td>\n",
       "      <td>0.3</td>\n",
       "      <td>0.3</td>\n",
       "      <td>wsj</td>\n",
       "    </tr>\n",
       "    <tr>\n",
       "      <th>172</th>\n",
       "      <td>2020-04-20</td>\n",
       "      <td>The Critical Variable in Keeping Coronavirus i...</td>\n",
       "      <td>https://www.wsj.com/articles/the-critical-vari...</td>\n",
       "      <td>0.6</td>\n",
       "      <td>0.6</td>\n",
       "      <td>wsj</td>\n",
       "    </tr>\n",
       "    <tr>\n",
       "      <th>289</th>\n",
       "      <td>2020-04-20</td>\n",
       "      <td>Brooklyn’s Once Bustling Fifth Avenue Goes Quiet</td>\n",
       "      <td>https://www.wsj.com/articles/on-a-vibrant-stre...</td>\n",
       "      <td>0.8</td>\n",
       "      <td>0.8</td>\n",
       "      <td>wsj</td>\n",
       "    </tr>\n",
       "  </tbody>\n",
       "</table>\n",
       "<p>16571 rows × 6 columns</p>\n",
       "</div>"
      ],
      "text/plain": [
       "             date                                           headline  \\\n",
       "14273  2019-11-08  JPMorgan Deal Shows Possible Path to Smaller F...   \n",
       "4358   2019-11-08  Former Brazilian President ‘Lula’ da Silva Rel...   \n",
       "4359   2019-11-08  House Freedom Caucus Emerges as Trump’s Main D...   \n",
       "4360   2019-11-08  College Football’s Powers: Ohio State, Alabama...   \n",
       "4361   2019-11-08                            What’s News: World-Wide   \n",
       "...           ...                                                ...   \n",
       "146    2020-04-20     China Rolls Out Pilot Test of Digital Currency   \n",
       "145    2020-04-20         Cloud Companies Won’t Float Above Pandemic   \n",
       "144    2020-04-20         Cloud Companies Won’t Float Above Pandemic   \n",
       "172    2020-04-20  The Critical Variable in Keeping Coronavirus i...   \n",
       "289    2020-04-20   Brooklyn’s Once Bustling Fifth Avenue Goes Quiet   \n",
       "\n",
       "                                                    link  magnitude  score  \\\n",
       "14273  https://www.wsj.com/articles/jpmorgan-deal-sho...        0.4    0.4   \n",
       "4358   https://www.wsj.com/articles/brazilian-judge-o...        0.0    0.0   \n",
       "4359   https://www.wsj.com/articles/house-freedom-cau...        0.0    0.0   \n",
       "4360   https://www.wsj.com/articles/its-november-and-...        0.0    0.0   \n",
       "4361   https://www.wsj.com/articles/whats-news-world-...        0.0    0.0   \n",
       "...                                                  ...        ...    ...   \n",
       "146    https://www.wsj.com/articles/china-rolls-out-p...        0.3    0.3   \n",
       "145    https://www.wsj.com/articles/cloud-companies-w...        0.3    0.3   \n",
       "144    https://www.wsj.com/articles/cloud-companies-w...        0.3    0.3   \n",
       "172    https://www.wsj.com/articles/the-critical-vari...        0.6    0.6   \n",
       "289    https://www.wsj.com/articles/on-a-vibrant-stre...        0.8    0.8   \n",
       "\n",
       "      source  \n",
       "14273    wsj  \n",
       "4358     wsj  \n",
       "4359     wsj  \n",
       "4360     wsj  \n",
       "4361     wsj  \n",
       "...      ...  \n",
       "146      wsj  \n",
       "145      wsj  \n",
       "144      wsj  \n",
       "172      wsj  \n",
       "289      wsj  \n",
       "\n",
       "[16571 rows x 6 columns]"
      ]
     },
     "execution_count": 5,
     "metadata": {},
     "output_type": "execute_result"
    }
   ],
   "source": [
    "# Reorder dataframe by date\n",
    "df.sort_values(by='date', inplace=True)\n",
    "df"
   ]
  },
  {
   "cell_type": "code",
   "execution_count": 6,
   "metadata": {},
   "outputs": [
    {
     "data": {
      "text/html": [
       "<div>\n",
       "<style scoped>\n",
       "    .dataframe tbody tr th:only-of-type {\n",
       "        vertical-align: middle;\n",
       "    }\n",
       "\n",
       "    .dataframe tbody tr th {\n",
       "        vertical-align: top;\n",
       "    }\n",
       "\n",
       "    .dataframe thead th {\n",
       "        text-align: right;\n",
       "    }\n",
       "</style>\n",
       "<table border=\"1\" class=\"dataframe\">\n",
       "  <thead>\n",
       "    <tr style=\"text-align: right;\">\n",
       "      <th></th>\n",
       "      <th>date</th>\n",
       "      <th>headline</th>\n",
       "      <th>link</th>\n",
       "      <th>magnitude</th>\n",
       "      <th>score</th>\n",
       "      <th>source</th>\n",
       "    </tr>\n",
       "  </thead>\n",
       "  <tbody>\n",
       "    <tr>\n",
       "      <th>14273</th>\n",
       "      <td>2019-11-08</td>\n",
       "      <td>jpmorgan deal shows possible path to smaller f...</td>\n",
       "      <td>https://www.wsj.com/articles/jpmorgan-deal-sho...</td>\n",
       "      <td>0.4</td>\n",
       "      <td>0.4</td>\n",
       "      <td>wsj</td>\n",
       "    </tr>\n",
       "    <tr>\n",
       "      <th>4358</th>\n",
       "      <td>2019-11-08</td>\n",
       "      <td>former brazilian president ‘lula’ da silva rel...</td>\n",
       "      <td>https://www.wsj.com/articles/brazilian-judge-o...</td>\n",
       "      <td>0.0</td>\n",
       "      <td>0.0</td>\n",
       "      <td>wsj</td>\n",
       "    </tr>\n",
       "    <tr>\n",
       "      <th>4359</th>\n",
       "      <td>2019-11-08</td>\n",
       "      <td>house freedom caucus emerges as trump’s main d...</td>\n",
       "      <td>https://www.wsj.com/articles/house-freedom-cau...</td>\n",
       "      <td>0.0</td>\n",
       "      <td>0.0</td>\n",
       "      <td>wsj</td>\n",
       "    </tr>\n",
       "    <tr>\n",
       "      <th>4360</th>\n",
       "      <td>2019-11-08</td>\n",
       "      <td>college football’s powers: ohio state, alabama...</td>\n",
       "      <td>https://www.wsj.com/articles/its-november-and-...</td>\n",
       "      <td>0.0</td>\n",
       "      <td>0.0</td>\n",
       "      <td>wsj</td>\n",
       "    </tr>\n",
       "    <tr>\n",
       "      <th>4361</th>\n",
       "      <td>2019-11-08</td>\n",
       "      <td>what’s news: world-wide</td>\n",
       "      <td>https://www.wsj.com/articles/whats-news-world-...</td>\n",
       "      <td>0.0</td>\n",
       "      <td>0.0</td>\n",
       "      <td>wsj</td>\n",
       "    </tr>\n",
       "  </tbody>\n",
       "</table>\n",
       "</div>"
      ],
      "text/plain": [
       "             date                                           headline  \\\n",
       "14273  2019-11-08  jpmorgan deal shows possible path to smaller f...   \n",
       "4358   2019-11-08  former brazilian president ‘lula’ da silva rel...   \n",
       "4359   2019-11-08  house freedom caucus emerges as trump’s main d...   \n",
       "4360   2019-11-08  college football’s powers: ohio state, alabama...   \n",
       "4361   2019-11-08                            what’s news: world-wide   \n",
       "\n",
       "                                                    link  magnitude  score  \\\n",
       "14273  https://www.wsj.com/articles/jpmorgan-deal-sho...        0.4    0.4   \n",
       "4358   https://www.wsj.com/articles/brazilian-judge-o...        0.0    0.0   \n",
       "4359   https://www.wsj.com/articles/house-freedom-cau...        0.0    0.0   \n",
       "4360   https://www.wsj.com/articles/its-november-and-...        0.0    0.0   \n",
       "4361   https://www.wsj.com/articles/whats-news-world-...        0.0    0.0   \n",
       "\n",
       "      source  \n",
       "14273    wsj  \n",
       "4358     wsj  \n",
       "4359     wsj  \n",
       "4360     wsj  \n",
       "4361     wsj  "
      ]
     },
     "execution_count": 6,
     "metadata": {},
     "output_type": "execute_result"
    }
   ],
   "source": [
    "# Change case of headlines to lower\n",
    "df.headline = df.headline.apply(lambda x: str.lower(x))\n",
    "df.head(5)"
   ]
  },
  {
   "cell_type": "code",
   "execution_count": 7,
   "metadata": {},
   "outputs": [
    {
     "data": {
      "text/plain": [
       "what’s news: business & finance                                 0.84 %\n",
       "what’s news: world-wide                                         0.83 %\n",
       "pepper...and salt                                               0.81 %\n",
       "corrections & amplifications                                    0.63 %\n",
       "photos of the week                                              0.12 %\n",
       "                                                                ...   \n",
       "biden and his vice presidential candidate                       0.01 %\n",
       "muzzled activists are mixed blessing for companies              0.01 %\n",
       "ruth’s chris steak house gets $20 million from aid program      0.01 %\n",
       "china reveals probe of another top law-enforcement official     0.01 %\n",
       "companies seek coronavirus tests for workers                    0.01 %\n",
       "Name: headline, Length: 145, dtype: object"
      ]
     },
     "execution_count": 7,
     "metadata": {},
     "output_type": "execute_result"
    }
   ],
   "source": [
    "rows = len(df.iloc[:, 1])\n",
    "\n",
    "# mark repeated headlines\n",
    "repeated_headlines = list(df.headline.value_counts()[df.headline.value_counts() > 1].index)\n",
    "daily_editions = list(df.headline.value_counts()[df.headline.value_counts() > 3].index)\n",
    "ind_repeated_headlines = df[df.headline.isin(repeated_headlines) == True].index\n",
    "\n",
    "# feature engineering\n",
    "df[\"fe_repeated_headlines\"] = 0\n",
    "df[\"fe_daily_editions\"] = 0\n",
    "df.loc[df.headline.isin(repeated_headlines) == True, \"fe_repeated_headlines\"] = 1\n",
    "df.loc[df.headline.isin(daily_editions) == True, \"fe_daily_editions\"] = 1\n",
    "\n",
    "# percentage of repeated articles\n",
    "df.headline.value_counts()[df.headline.value_counts() > 1].apply(lambda x: \" {} %\".format(round(x*100/rows, 2)))"
   ]
  },
  {
   "cell_type": "code",
   "execution_count": 8,
   "metadata": {},
   "outputs": [],
   "source": [
    "# get unique headlines and daily additions\n",
    "df_unique = df[(df.fe_repeated_headlines == 0) | (df.fe_daily_editions == 1)]\n",
    "df_unique.to_csv(\"data/unique_headlines.csv\")"
   ]
  },
  {
   "cell_type": "markdown",
   "metadata": {},
   "source": [
    "## Feature Engineering\n",
    "- Above average sentiment and emotional magnitude\n",
    "- Classification labels to differentiate periods of time by categories"
   ]
  },
  {
   "cell_type": "code",
   "execution_count": 9,
   "metadata": {},
   "outputs": [],
   "source": [
    "df_fe = df_unique.copy()"
   ]
  },
  {
   "cell_type": "code",
   "execution_count": 10,
   "metadata": {},
   "outputs": [
    {
     "data": {
      "text/plain": [
       "<matplotlib.axes._subplots.AxesSubplot at 0x1ef16842c50>"
      ]
     },
     "execution_count": 10,
     "metadata": {},
     "output_type": "execute_result"
    },
    {
     "data": {
      "image/png": "[encoded data removed]",
      "text/plain": [
       "<Figure size 432x288 with 1 Axes>"
      ]
     },
     "metadata": {
      "needs_background": "light"
     },
     "output_type": "display_data"
    }
   ],
   "source": [
    "# observe distribution of sentiment over period of analysis\n",
    "df_fe.score.plot.hist(bins=20)"
   ]
  },
  {
   "cell_type": "code",
   "execution_count": 11,
   "metadata": {},
   "outputs": [
    {
     "data": {
      "text/plain": [
       "<matplotlib.axes._subplots.AxesSubplot at 0x1ef1698e400>"
      ]
     },
     "execution_count": 11,
     "metadata": {},
     "output_type": "execute_result"
    },
    {
     "data": {
      "image/png": "[encoded data removed]",
      "text/plain": [
       "<Figure size 432x288 with 1 Axes>"
      ]
     },
     "metadata": {
      "needs_background": "light"
     },
     "output_type": "display_data"
    }
   ],
   "source": [
    "# observe distribution of magnitude over period of analysis\n",
    "df_fe.magnitude.plot.hist(bins=20)"
   ]
  },
  {
   "cell_type": "code",
   "execution_count": 12,
   "metadata": {},
   "outputs": [
    {
     "data": {
      "text/plain": [
       "14273    0\n",
       "16302    0\n",
       "16301    0\n",
       "5084     0\n",
       "5085     0\n",
       "        ..\n",
       "301      1\n",
       "183      1\n",
       "182      1\n",
       "179      1\n",
       "178      1\n",
       "Name: fe_repeated_headlines, Length: 4867, dtype: int64"
      ]
     },
     "execution_count": 12,
     "metadata": {},
     "output_type": "execute_result"
    }
   ],
   "source": [
    "# findings\n",
    "#     - score\n",
    "#         - > 0.75  -> clearly positive\n",
    "#         - < -0.75 -> clearly negative\n",
    "#     - maginitude\n",
    "#         - > 0.55  -> clearly midly expressive\n",
    "#         - > 0.75  -> clearly highly expressive\n",
    "        \n",
    "df_fe.loc[df.score > 0.25, \"fe_repeated_headlines\"]"
   ]
  },
  {
   "cell_type": "code",
   "execution_count": 13,
   "metadata": {},
   "outputs": [],
   "source": [
    "_repeated_headlines = (df_fe.headline.value_counts() > 1).index\n"
   ]
  },
  {
   "cell_type": "code",
   "execution_count": 14,
   "metadata": {},
   "outputs": [
    {
     "data": {
      "text/plain": [
       "Index(['what’s news: business & finance', 'what’s news: world-wide',\n",
       "       'pepper...and salt', 'corrections & amplifications',\n",
       "       'photos of the week', 'correctionsamplifications',\n",
       "       'what to know about the new coronavirus',\n",
       "       'everything you need to know about the payments from the government',\n",
       "       'all your coronavirus travel questions answered',\n",
       "       'coronavirus spreads across china as confirmed cases triple',\n",
       "       ...\n",
       "       'holiday ad creep comes to influencer marketing',\n",
       "       'carlos ghosn lawyer expresses ‘despair’ over japanese legal system',\n",
       "       'only republicans need supreme court lists',\n",
       "       'buttigieg distanced himself from liberals, and his campaign took off',\n",
       "       'the labor virtues of growth',\n",
       "       'distinguishing intimidation from protected free speech',\n",
       "       'waymo raises $2.25 billion after courting outside investors for first time',\n",
       "       'trump administration asks supreme court to reinstate blocked executions',\n",
       "       'bloomberg’s entry assumes he can upend conventional wisdom',\n",
       "       'argentina’s national pastime: hating on the imf'],\n",
       "      dtype='object', length=15738)"
      ]
     },
     "execution_count": 14,
     "metadata": {},
     "output_type": "execute_result"
    }
   ],
   "source": [
    "(df_fe.headline.value_counts() > 1).index"
   ]
  },
  {
   "cell_type": "code",
   "execution_count": null,
   "metadata": {},
   "outputs": [],
   "source": []
  }
 ],
 "metadata": {
  "kernelspec": {
   "display_name": "Python 3",
   "language": "python",
   "name": "python3"
  },
  "language_info": {
   "codemirror_mode": {
    "name": "ipython",
    "version": 3
   },
   "file_extension": ".py",
   "mimetype": "text/x-python",
   "name": "python",
   "nbconvert_exporter": "python",
   "pygments_lexer": "ipython3",
   "version": "3.7.3"
  },
  "toc": {
   "base_numbering": 1,
   "nav_menu": {},
   "number_sections": true,
   "sideBar": true,
   "skip_h1_title": false,
   "title_cell": "Table of Contents",
   "title_sidebar": "Contents",
   "toc_cell": false,
   "toc_position": {},
   "toc_section_display": true,
   "toc_window_display": false
  },
  "varInspector": {
   "cols": {
    "lenName": 16,
    "lenType": 16,
    "lenVar": 40
   },
   "kernels_config": {
    "python": {
     "delete_cmd_postfix": "",
     "delete_cmd_prefix": "del ",
     "library": "var_list.py",
     "varRefreshCmd": "print(var_dic_list())"
    },
    "r": {
     "delete_cmd_postfix": ") ",
     "delete_cmd_prefix": "rm(",
     "library": "var_list.r",
     "varRefreshCmd": "cat(var_dic_list()) "
    }
   },
   "position": {
    "height": "255.495px",
    "left": "1229px",
    "right": "20px",
    "top": "121px",
    "width": "350px"
   },
   "types_to_exclude": [
    "module",
    "function",
    "builtin_function_or_method",
    "instance",
    "_Feature"
   ],
   "window_display": false
  }
 },
 "nbformat": 4,
 "nbformat_minor": 4
}
